{
 "cells": [
  {
   "cell_type": "code",
   "execution_count": 40,
   "metadata": {},
   "outputs": [],
   "source": [
    "import torch\n",
    "import chess\n",
    "import chess.engine\n",
    "from model import model\n",
    "from data.vocab import BaseVocab\n",
    "# from evaluation.evaluate import get_prediction\n",
    "# from evaluation.evaluate import initialise_model\n",
    "import evaluation.evaluate\n",
    "from utils.utils import get_recent_ckpt\n",
    "import IPython.display as vis"
   ]
  },
  {
   "cell_type": "markdown",
   "metadata": {},
   "source": [
    "### Initialise the Model"
   ]
  },
  {
   "cell_type": "code",
   "execution_count": 41,
   "metadata": {},
   "outputs": [
    {
     "output_type": "error",
     "ename": "AttributeError",
     "evalue": "module 'evaluation.evaluate' has no attribute 'initialise_model'",
     "traceback": [
      "\u001b[0;31m---------------------------------------------------------------------------\u001b[0m",
      "\u001b[0;31mAttributeError\u001b[0m                            Traceback (most recent call last)",
      "\u001b[0;32m<ipython-input-41-514876748b90>\u001b[0m in \u001b[0;36m<module>\u001b[0;34m\u001b[0m\n\u001b[1;32m      1\u001b[0m \u001b[0;31m# Initialise the model\u001b[0m\u001b[0;34m\u001b[0m\u001b[0;34m\u001b[0m\u001b[0;34m\u001b[0m\u001b[0m\n\u001b[0;32m----> 2\u001b[0;31m \u001b[0mgpt_model\u001b[0m\u001b[0;34m,\u001b[0m \u001b[0mstoi\u001b[0m\u001b[0;34m,\u001b[0m \u001b[0mitos\u001b[0m \u001b[0;34m=\u001b[0m \u001b[0mevaluation\u001b[0m\u001b[0;34m.\u001b[0m\u001b[0mevaluate\u001b[0m\u001b[0;34m.\u001b[0m\u001b[0minitialise_model\u001b[0m\u001b[0;34m(\u001b[0m\u001b[0;34m'ckpts/epoch_1.pt'\u001b[0m\u001b[0;34m)\u001b[0m\u001b[0;34m\u001b[0m\u001b[0;34m\u001b[0m\u001b[0m\n\u001b[0m",
      "\u001b[0;31mAttributeError\u001b[0m: module 'evaluation.evaluate' has no attribute 'initialise_model'"
     ]
    }
   ],
   "source": [
    "# Initialise the model\n",
    "gpt_model, stoi, itos = evaluation.evaluate.initialise_model('ckpts/epoch_1.pt')"
   ]
  },
  {
   "cell_type": "markdown",
   "metadata": {},
   "source": [
    "### Initialise the Chess Engine"
   ]
  },
  {
   "cell_type": "code",
   "execution_count": 7,
   "metadata": {},
   "outputs": [],
   "source": [
    "engine = chess.engine.SimpleEngine.popen_uci(\"/usr/games/stockfish\")\n",
    "# engine = chess.engine.SimpleEngine.popen_uci(\"/usr/local/bin/stockfish\")"
   ]
  },
  {
   "cell_type": "markdown",
   "metadata": {},
   "source": [
    "### Code for Bot vs. Human"
   ]
  },
  {
   "cell_type": "code",
   "execution_count": 8,
   "metadata": {},
   "outputs": [],
   "source": [
    "def bot_vs_human(starting_pgn='', display_board=True):\n",
    "    winner = None\n",
    "    final_illegal = 0\n",
    "    first_bad_move = -1\n",
    "\n",
    "    # run inference loop\n",
    "    game_str = starting_pgn\n",
    "    bot_move = ''\n",
    "    board = chess.Board()\n",
    "\n",
    "    for move in game_str.split():\n",
    "        board.push_san(move)\n",
    "\n",
    "    illegal_moves = []\n",
    "    if display_board:\n",
    "        vis.display(board)\n",
    "    bot_move_count = 0\n",
    "    while True:\n",
    "        user_move = input('Enter move: ')\n",
    "        \n",
    "        if user_move == \"resign\":\n",
    "            break\n",
    "        else:\n",
    "            while True:\n",
    "                try:\n",
    "                    board.push_san(user_move)\n",
    "                    game_str += user_move + ' '\n",
    "                    break\n",
    "                except ValueError:\n",
    "                    display(\"MAKE A LEGAL MOVE\")\n",
    "                    user_move = input('Enter new move: ')\n",
    "            \n",
    "            \n",
    "        if board.is_stalemate() or board.is_insufficient_material():\n",
    "            winner = \"DRAW\"\n",
    "            if display_board:\n",
    "                vis.clear_output()\n",
    "                vis.display(board)\n",
    "                display(\"DRAW\")\n",
    "            break\n",
    "        \n",
    "        if board.is_checkmate():\n",
    "            display(\"CHECKMATE, PLAYER WINS\")\n",
    "            break\n",
    "\n",
    "        vis.clear_output()\n",
    "        vis.display(board)\n",
    "\n",
    "        # bot turn\n",
    "        # handle cases where game str is larger than block size\n",
    "        if len(game_str) >= 504:\n",
    "            if display_board:\n",
    "                vis.display(\"ALERT: Game string too long.  ChEPT resigns.\")\n",
    "                vis.clear_output()\n",
    "                vis.display(board)\n",
    "                display(\"CHECKMATE, CHePT RESIGNS\")\n",
    "            break\n",
    "        bot_move = get_prediction(game_str, gpt_model, stoi, itos)\n",
    "        bot_move_count += 1\n",
    "\n",
    "        try:\n",
    "            board.push_san(bot_move)\n",
    "            illegal_moves.append(0)\n",
    "        except ValueError:\n",
    "            if first_bad_move == -1: first_bad_move = bot_move_count\n",
    "            \n",
    "                \n",
    "            # try re-sampling 5 times\n",
    "            success = False\n",
    "            for i in range(15):\n",
    "                bot_move = get_prediction(game_str, gpt_model, stoi, itos, sample=True)\n",
    "                \n",
    "                try:\n",
    "                    board.push_san(bot_move)\n",
    "                    success = True\n",
    "                    break\n",
    "                except:\n",
    "                    pass\n",
    "\n",
    "            if not success:\n",
    "                if display_board:\n",
    "                    vis.display(\"ALERT ALERT ALERT: Bot move was illegal.  Computer move substituted.\")\n",
    "                illegal_moves.append(1)\n",
    "                final_illegal += 1\n",
    "                bot_move = engine.play(board, chess.engine.Limit(time=0.1))\n",
    "                bot_move_str = board.san(bot_move.move)\n",
    "                board.push(bot_move.move)\n",
    "                bot_move = bot_move_str\n",
    "        \n",
    "        if board.is_stalemate() or board.is_insufficient_material():\n",
    "            winner = \"DRAW\"\n",
    "            if display_board:\n",
    "                vis.clear_output()\n",
    "                vis.display(board)\n",
    "                display(\"DRAW\")\n",
    "            break\n",
    "\n",
    "        if board.is_checkmate():\n",
    "            winner = \"BOT\"\n",
    "            if display_board:\n",
    "                vis.clear_output()\n",
    "                vis.display(board)\n",
    "                display(\"CHECKMATE, BOT WINS\")\n",
    "            break\n",
    "\n",
    "        game_str = game_str + bot_move + ' '\n",
    "        if display_board:\n",
    "            vis.clear_output()\n",
    "            vis.display(board)\n",
    "\n",
    "    return (game_str, illegal_moves, first_bad_move, final_illegal, winner)"
   ]
  },
  {
   "cell_type": "markdown",
   "metadata": {},
   "source": [
    "### Code for Bot vs. Stockfish"
   ]
  },
  {
   "cell_type": "code",
   "execution_count": 30,
   "metadata": {},
   "outputs": [],
   "source": [
    "def check_end(just_moved, board, visualise):\n",
    "    if visualise: vis.clear_output()\n",
    "    if visualise: vis.display(board)\n",
    "    if board.is_stalemate() or board.is_insufficient_material():\n",
    "        winner = \"DRAW\"\n",
    "        if visualise: display(\"DRAW\")\n",
    "        return (True, winner, 'stalemate')\n",
    "    \n",
    "    if board.is_checkmate():\n",
    "        winner = just_moved\n",
    "        if visualise: display(f\"CHECKMATE, {winner} WINS\")\n",
    "        return (True, winner, 'checkmate')\n",
    "\n",
    "    return (False, None, None)\n",
    "\n",
    "def generate_legal_bot_move(board, game_str):\n",
    "    illegal_attempts = 0\n",
    "    for i in range(10):\n",
    "        # don't bother sampling the first time\n",
    "        sample = False if i == 0 else True\n",
    "        bot_move = get_prediction(game_str.split(\" \"), gpt_model, stoi, itos, sample=sample)\n",
    "\n",
    "        try:\n",
    "            board.push_san(bot_move)\n",
    "            return (bot_move, illegal_attempts)\n",
    "        except ValueError:\n",
    "            illegal_attempts += 1\n",
    "    \n",
    "    return None, illegal_attempts\n",
    "\n",
    "\n",
    "def bot_vs_stockfish(starting_game_str='', visualise=False):\n",
    "    game_str = starting_game_str\n",
    "\n",
    "    board = chess.Board()\n",
    "\n",
    "    for move in game_str.split():\n",
    "        board.push_san(move)\n",
    "\n",
    "    if visualise: vis.display(board)\n",
    "    illegal_moves = []\n",
    "\n",
    "    while True:\n",
    "        # let the computer move\n",
    "        comp_move = engine.play(board, chess.engine.Limit(time=0.05))\n",
    "        game_str += board.san(comp_move.move)\n",
    "        board.push(comp_move.move)\n",
    "\n",
    "        over, winner, reason = check_end('STOCKFISH', board, visualise=visualise)\n",
    "        if over:\n",
    "            break\n",
    "\n",
    "        # let our bot move\n",
    "        bot_move, illegal_attempts = generate_legal_bot_move(board, game_str)\n",
    "        illegal_moves.append(illegal_attempts)\n",
    "        if bot_move == None:\n",
    "            if visualise: display(f\"CANNOT GENERATE LEGAL MOVE, STOCKFISH WINS\")\n",
    "            winner = 'STOCKFISH'\n",
    "            reason = 'no-legal'\n",
    "            break\n",
    "        \n",
    "        game_str += ' ' + bot_move + ' '\n",
    "        over, winner, reason = check_end('BOT', board, visualise=visualise)\n",
    "        if over:\n",
    "            break\n",
    "\n",
    "    return illegal_moves, winner, reason, game_str"
   ]
  },
  {
   "cell_type": "code",
   "execution_count": 32,
   "metadata": {},
   "outputs": [
    {
     "output_type": "execute_result",
     "data": {
      "text/plain": [
       "([0, 0, 0, 0, 0, 0, 0, 0, 0, 0, 0, 0, 0, 0, 0, 0, 0, 0, 0, 0, 0, 10],\n",
       " 'STOCKFISH',\n",
       " 'no-legal',\n",
       " 'e4 c5 Nc3 Nc6 Nf3 g6 d4 cxd4 Nxd4 Bg7 Be3 Nf6 Nxc6 bxc6 e5 Ng8 f4 Nh6 Be2 O-O Qd2 f6 exf6 exf6 O-O d5 Bc5 Re8 Rae1 Bf5 b4 Qd7 b5 cxb5 Bxb5 Qc7 Qxd5+ Kh8 Rxe8+ Rxe8 Bxe8 Qxc5+ Qxc5')"
      ]
     },
     "metadata": {},
     "execution_count": 32
    }
   ],
   "source": [
    "bot_vs_stockfish('', visualise=False)"
   ]
  },
  {
   "cell_type": "code",
   "execution_count": null,
   "metadata": {},
   "outputs": [],
   "source": []
  }
 ],
 "metadata": {
  "kernelspec": {
   "name": "python385jvsc74a57bd0c5576a13adbdbdf8b891d569840d46d31ec6d3c3a0fb3d3918a94630d17914ca",
   "display_name": "Python 3.8.5 64-bit ('venv': venv)"
  },
  "language_info": {
   "codemirror_mode": {
    "name": "ipython",
    "version": 3
   },
   "file_extension": ".py",
   "mimetype": "text/x-python",
   "name": "python",
   "nbconvert_exporter": "python",
   "pygments_lexer": "ipython3",
   "version": "3.8.5"
  },
  "metadata": {
   "interpreter": {
    "hash": "c5576a13adbdbdf8b891d569840d46d31ec6d3c3a0fb3d3918a94630d17914ca"
   }
  }
 },
 "nbformat": 4,
 "nbformat_minor": 2
}